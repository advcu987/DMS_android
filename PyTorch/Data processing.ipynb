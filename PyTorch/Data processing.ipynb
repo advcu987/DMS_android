{
 "cells": [
  {
   "cell_type": "markdown",
   "id": "equal-times",
   "metadata": {},
   "source": [
    "TODO\n",
    "\n",
    "[X] extract frames from video (.mp4)\n",
    "\n",
    "[X] create PyTorch Dataset (no data augmentation for now)\n",
    "\n",
    "[X] seaparate into training , validation dataset\n",
    "\n",
    "[ ] dataloader for pretrained MobileNetv3 model\n",
    "(http://pytorch.org/vision/stable/models.html: All pre-trained models expect input images normalized in the same way, i.e. mini-batches of 3-channel RGB images of shape (3 x H x W), where H and W are expected to be at least 224. The images have to be loaded in to a range of [0, 1] and then normalized using mean = [0.485, 0.456, 0.406] and std = [0.229, 0.224, 0.225])"
   ]
  },
  {
   "cell_type": "code",
   "execution_count": null,
   "id": "blessed-multiple",
   "metadata": {},
   "outputs": [],
   "source": [
    "import cv2"
   ]
  },
  {
   "cell_type": "markdown",
   "id": "turned-czech",
   "metadata": {},
   "source": [
    "**extract frames from video and save them as .jpeg**\n",
    "\n",
    "source: https://stackoverflow.com/questions/33311153/python-extracting-and-saving-video-frames\n",
    "\n",
    "list of supported formats for extracted images: https://docs.opencv.org/3.4/d4/da8/group__imgcodecs.html#ga288b8b3da0892bd651fce07b3bbd3a56"
   ]
  },
  {
   "cell_type": "code",
   "execution_count": null,
   "id": "everyday-riverside",
   "metadata": {
    "scrolled": true
   },
   "outputs": [],
   "source": [
    "vidcap = cv2.VideoCapture('/home/advo/dev/DMS_android/PyTorch/Resources/VID_20210530_214905012.mp4')\n",
    "success,image = vidcap.read()\n",
    "count = 0\n",
    "while success and count < 20:\n",
    "  cv2.imwrite(\"frame%d.jpg\" % count, image)     # save frame as JPEG file      \n",
    "  success,image = vidcap.read()\n",
    "  print('Read a new frame: ', success)\n",
    "  count += 1"
   ]
  },
  {
   "cell_type": "markdown",
   "id": "imported-password",
   "metadata": {},
   "source": [
    "**Implement DataLoader**\n",
    "\n",
    "Source: https://pytorch.org/tutorials/beginner/data_loading_tutorial.html"
   ]
  },
  {
   "cell_type": "code",
   "execution_count": 9,
   "id": "pressed-advocacy",
   "metadata": {},
   "outputs": [],
   "source": [
    "# from __future__ import print_function, division\n",
    "import os\n",
    "import torch\n",
    "import torchvision\n",
    "from torchvision import datasets, transforms, models"
   ]
  },
  {
   "cell_type": "code",
   "execution_count": null,
   "id": "dimensional-customs",
   "metadata": {},
   "outputs": [],
   "source": [
    "generic_transform = transforms.Compose([\n",
    "    transforms.Resize(256),\n",
    "    transforms.CenterCrop(224),\n",
    "    transforms.ToTensor(),\n",
    "    transforms.Normalize(mean=[0.485, 0.456, 0.406], std=[0.229, 0.224, 0.225]),\n",
    "])"
   ]
  },
  {
   "cell_type": "code",
   "execution_count": null,
   "id": "burning-seminar",
   "metadata": {},
   "outputs": [],
   "source": [
    "# driver_dataset = DriverFaceDataset(csv_file=\"/home/advo/dev/DMS_android/PyTorch/Resources/labels.csv\",\n",
    "#                                    root_dir=\"/home/advo/dev/DMS_android/PyTorch/Resources/images\",\n",
    "#                                    transform=generic_transform)\n",
    "driver_dataset = datasets.ImageFolder('/home/advo/dev/DMS_android/PyTorch/Resources/images', transform=generic_transform)"
   ]
  },
  {
   "cell_type": "code",
   "execution_count": null,
   "id": "successful-trademark",
   "metadata": {},
   "outputs": [],
   "source": [
    "# Split dataset into training and validation\n",
    "size_train = int(0.8 * len(driver_dataset))\n",
    "size_val = len(driver_dataset) - size_train\n",
    "driver_dataset_train, driver_dataset_val = torch.utils.data.dataset.random_split(driver_dataset, [size_train, size_val])"
   ]
  },
  {
   "cell_type": "code",
   "execution_count": null,
   "id": "meaning-circus",
   "metadata": {},
   "outputs": [],
   "source": [
    "train_loader = torch.utils.data.DataLoader(driver_dataset_train, batch_size=4, shuffle=True, num_workers=0)\n",
    "val_loader = torch.utils.data.DataLoader(driver_dataset_val, batch_size=4, shuffle=True, num_workers=0)"
   ]
  },
  {
   "cell_type": "code",
   "execution_count": null,
   "id": "spoken-ministry",
   "metadata": {},
   "outputs": [],
   "source": [
    "mobilenet_v3_small = models.mobilenet_v3_small(pretrained=True)"
   ]
  },
  {
   "cell_type": "code",
   "execution_count": null,
   "id": "functional-reynolds",
   "metadata": {},
   "outputs": [],
   "source": [
    "print(mobilenet_v3_small)"
   ]
  },
  {
   "cell_type": "code",
   "execution_count": 173,
   "id": "economic-smoke",
   "metadata": {
    "scrolled": true
   },
   "outputs": [],
   "source": []
  },
  {
   "cell_type": "code",
   "execution_count": null,
   "id": "guided-microphone",
   "metadata": {},
   "outputs": [],
   "source": []
  }
 ],
 "metadata": {
  "kernelspec": {
   "display_name": "Python 3",
   "language": "python",
   "name": "python3"
  },
  "language_info": {
   "codemirror_mode": {
    "name": "ipython",
    "version": 3
   },
   "file_extension": ".py",
   "mimetype": "text/x-python",
   "name": "python",
   "nbconvert_exporter": "python",
   "pygments_lexer": "ipython3",
   "version": "3.8.5"
  }
 },
 "nbformat": 4,
 "nbformat_minor": 5
}
